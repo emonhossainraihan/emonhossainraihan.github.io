{
 "cells": [
  {
   "cell_type": "code",
   "execution_count": 23,
   "metadata": {},
   "outputs": [
    {
     "name": "stdout",
     "output_type": "stream",
     "text": [
      "\n",
      "\\\\begin{align*}\n",
      "    \\\\begin{bmatrix}\n",
      "        z&x-yi\\\\\\x+yi&-z\n",
      "    \\\\end{bmatrix}&=z\\\\begin{bmatrix}\n",
      "        1&0\\\\\\0&0\n",
      "    \\\\end{bmatrix}+(x+yi)\\\\begin{bmatrix}\n",
      "        0&0\\\\\\1&0\n",
      "    \\\\end{bmatrix}+(x-yi)\\\\begin{bmatrix}\n",
      "        0&1\\\\\\0&0\n",
      "    \\\\end{bmatrix}+(-z)\\\\begin{bmatrix}\n",
      "        0&0\\\\\\0&1\n",
      "    \\\\end{bmatrix}\\\\\\\n",
      "    &=z\\\\underbrace{\\\\begin{bmatrix}\n",
      "        1\\\\\\0\n",
      "    \\\\end{bmatrix}\\\\begin{bmatrix}\n",
      "        1&0\n",
      "    \\\\end{bmatrix}}_{\\\\text{Spinor pair}}+(x+yi)\\\\underbrace{\\\\begin{bmatrix}\n",
      "        0\\\\\\1\n",
      "    \\\\end{bmatrix}\\\\begin{bmatrix}\n",
      "        1&0\n",
      "    \\\\end{bmatrix}}_{\\\\text{Spinor pair}}+(x-yi)\\\\underbrace{\\\\begin{bmatrix}\n",
      "        1\\\\\\0\n",
      "    \\\\end{bmatrix}\\\\begin{bmatrix}\n",
      "        0&1\n",
      "    \\\\end{bmatrix}}_{\\\\text{Spinor pair}}+(-z)\\\\underbrace{\\\\begin{bmatrix}\n",
      "        0\\\\\\1\n",
      "    \\\\end{bmatrix}\\\\begin{bmatrix}\n",
      "        0&1\n",
      "    \\\\end{bmatrix}}_{\\\\text{Spinor pair}}\n",
      "\\\\end{align*}\n",
      "\n"
     ]
    }
   ],
   "source": [
    "import re\n",
    "\n",
    "# Original LaTeX code\n",
    "latex_code = r\"\"\"\n",
    "\\begin{align*}\n",
    "    \\begin{bmatrix}\n",
    "        z&x-yi\\\\x+yi&-z\n",
    "    \\end{bmatrix}&=z\\begin{bmatrix}\n",
    "        1&0\\\\0&0\n",
    "    \\end{bmatrix}+(x+yi)\\begin{bmatrix}\n",
    "        0&0\\\\1&0\n",
    "    \\end{bmatrix}+(x-yi)\\begin{bmatrix}\n",
    "        0&1\\\\0&0\n",
    "    \\end{bmatrix}+(-z)\\begin{bmatrix}\n",
    "        0&0\\\\0&1\n",
    "    \\end{bmatrix}\\\\\n",
    "    &=z\\underbrace{\\begin{bmatrix}\n",
    "        1\\\\0\n",
    "    \\end{bmatrix}\\begin{bmatrix}\n",
    "        1&0\n",
    "    \\end{bmatrix}}_{\\text{Spinor pair}}+(x+yi)\\underbrace{\\begin{bmatrix}\n",
    "        0\\\\1\n",
    "    \\end{bmatrix}\\begin{bmatrix}\n",
    "        1&0\n",
    "    \\end{bmatrix}}_{\\text{Spinor pair}}+(x-yi)\\underbrace{\\begin{bmatrix}\n",
    "        1\\\\0\n",
    "    \\end{bmatrix}\\begin{bmatrix}\n",
    "        0&1\n",
    "    \\end{bmatrix}}_{\\text{Spinor pair}}+(-z)\\underbrace{\\begin{bmatrix}\n",
    "        0\\\\1\n",
    "    \\end{bmatrix}\\begin{bmatrix}\n",
    "        0&1\n",
    "    \\end{bmatrix}}_{\\text{Spinor pair}}\n",
    "\\end{align*}\n",
    "\"\"\"\n",
    "\n",
    "# Function to convert single '\\' to '\\\\' and double '\\\\' to '\\\\\\'\n",
    "def convert_latex_for_md(latex_code):\n",
    "    # Replace double backslashes \\\\ with triple \\\\\\\n",
    "    latex_code = re.sub(r'\\\\\\\\', r'\\\\\\\\\\\\', latex_code)\n",
    "    # Replace single backslashes \\ with double \\\\\n",
    "    latex_code = re.sub(r'(?<!\\\\)\\\\(?!\\\\)', r'\\\\\\\\', latex_code)\n",
    "    return latex_code\n",
    "\n",
    "# Converted LaTeX code\n",
    "converted_code = convert_latex_for_md(latex_code)\n",
    "converted_code\n",
    "# stringify converted code\n",
    "print(converted_code)"
   ]
  },
  {
   "cell_type": "code",
   "execution_count": null,
   "metadata": {},
   "outputs": [],
   "source": []
  }
 ],
 "metadata": {
  "kernelspec": {
   "display_name": "Python 3",
   "language": "python",
   "name": "python3"
  },
  "language_info": {
   "codemirror_mode": {
    "name": "ipython",
    "version": 3
   },
   "file_extension": ".py",
   "mimetype": "text/x-python",
   "name": "python",
   "nbconvert_exporter": "python",
   "pygments_lexer": "ipython3",
   "version": "3.11.3"
  }
 },
 "nbformat": 4,
 "nbformat_minor": 2
}
